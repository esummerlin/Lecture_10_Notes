{
 "cells": [
  {
   "cell_type": "markdown",
   "metadata": {},
   "source": [
    "## Working with Tweets\n",
    "#### Or literally any list of dictionaries or other nested data structure\n",
    "\n",
    "Here are some tweet texts. In a5, you'll have some functions that take in tweets, split them into lists of words, and those word lists will be stored in dictionaries. \n",
    "\n",
    "Sort of like this: "
   ]
  },
  {
   "cell_type": "code",
   "execution_count": 51,
   "metadata": {},
   "outputs": [],
   "source": [
    "tweets = [\n",
    "    {'words': ['this', 'is', 'my', 'first', 'tweet']},\n",
    "    {'words': ['did', 'you', 'hear', 'about', 'CardiB']},\n",
    "    {'words': ['OMG', 'yassssss']}\n",
    "]"
   ]
  },
  {
   "cell_type": "code",
   "execution_count": 52,
   "metadata": {},
   "outputs": [
    {
     "name": "stdout",
     "output_type": "stream",
     "text": [
      "{'words': ['this', 'is', 'my', 'first', 'tweet']}\n",
      "{'words': ['did', 'you', 'hear', 'about', 'CardiB']}\n",
      "{'words': ['OMG', 'yassssss']}\n"
     ]
    }
   ],
   "source": [
    "##Print every tweet in tweets\n",
    "for tweet in tweets: \n",
    "    print(tweet)"
   ]
  },
  {
   "cell_type": "markdown",
   "metadata": {},
   "source": [
    "#### The question here is how many words are in all my tweets. \n",
    "You know how to do this with a loop. \n",
    "\n",
    "Here, I loop over all the tweets and print the count of words in each tweet's word list using the built in `len()` function "
   ]
  },
  {
   "cell_type": "code",
   "execution_count": 53,
   "metadata": {},
   "outputs": [
    {
     "name": "stdout",
     "output_type": "stream",
     "text": [
      "5\n",
      "5\n",
      "2\n"
     ]
    }
   ],
   "source": [
    "for tweet in tweets: \n",
    "    print(len(tweet['words']))"
   ]
  },
  {
   "cell_type": "markdown",
   "metadata": {},
   "source": [
    "Excellent! My computer is computing!\n",
    "\n",
    "Now I just want to sum all of those individual counts into one count value. "
   ]
  },
  {
   "cell_type": "code",
   "execution_count": 54,
   "metadata": {},
   "outputs": [
    {
     "data": {
      "text/plain": [
       "12"
      ]
     },
     "execution_count": 54,
     "metadata": {},
     "output_type": "execute_result"
    }
   ],
   "source": [
    "count = 0\n",
    "for tweet in tweets: \n",
    "    count += len(tweet['words'])\n",
    "count"
   ]
  },
  {
   "cell_type": "markdown",
   "metadata": {},
   "source": [
    "#### Reducing\n",
    "\n",
    "That's it! \n",
    "\n",
    "This work of smashing all these values into one value is known as *reducing*\n",
    "\n",
    "If you want to have a \"reducing function\" you just turn this into a function `combine()`"
   ]
  },
  {
   "cell_type": "code",
   "execution_count": 55,
   "metadata": {},
   "outputs": [
    {
     "name": "stdout",
     "output_type": "stream",
     "text": [
      "12\n"
     ]
    }
   ],
   "source": [
    "def combine(total, item): \n",
    "    total = total + len(item['words'])\n",
    "    return total\n",
    "\n",
    "\n",
    "##Looping Option: \n",
    "##The \"easy\" way\n",
    "count = 0\n",
    "for tweet in tweets: \n",
    "    count = combine(count, tweet)\n",
    "print(count)\n"
   ]
  },
  {
   "cell_type": "code",
   "execution_count": 56,
   "metadata": {},
   "outputs": [
    {
     "name": "stdout",
     "output_type": "stream",
     "text": [
      "12\n"
     ]
    }
   ],
   "source": [
    "##Reducing Function Option: \n",
    "#The \"hard\" (but efficient) way: \n",
    "\n",
    "##Or just use built in reduce function\n",
    "\n",
    "#remember these three lines? \n",
    "    # count = 0\n",
    "    # for tweet in tweets: \n",
    "    #     count = combine(count, tweet)\n",
    "    \n",
    "#You can cut them down to one!\n",
    "\n",
    "\n",
    "##Recall: reduce(function_to_call, list_to_apply_function_to, optional_starting_value)\n",
    "from functools import reduce\n",
    "\n",
    "reduced_count = reduce(combine, tweets, 0) #0 is the starting point, equivalent to count = 0\n",
    "\n",
    "print(reduced_count)"
   ]
  },
  {
   "cell_type": "markdown",
   "metadata": {},
   "source": [
    "Here's a tip on how you can store information in dictionaries, just set the key equal to some value. "
   ]
  },
  {
   "cell_type": "code",
   "execution_count": 57,
   "metadata": {},
   "outputs": [
    {
     "name": "stdout",
     "output_type": "stream",
     "text": [
      "{}\n"
     ]
    }
   ],
   "source": [
    "some_dict = {}\n",
    "print(some_dict)"
   ]
  },
  {
   "cell_type": "code",
   "execution_count": 58,
   "metadata": {},
   "outputs": [],
   "source": [
    "#now add some key and some value\n",
    "some_dict['words'] = ['cat', 'dog', 'guinea pig']"
   ]
  },
  {
   "cell_type": "code",
   "execution_count": 59,
   "metadata": {},
   "outputs": [
    {
     "name": "stdout",
     "output_type": "stream",
     "text": [
      "{'words': ['cat', 'dog', 'guinea pig']}\n"
     ]
    }
   ],
   "source": [
    "print(some_dict)"
   ]
  },
  {
   "cell_type": "code",
   "execution_count": 60,
   "metadata": {},
   "outputs": [],
   "source": [
    "#now add some more things to some_dict\n",
    "some_dict['word_len'] = len(some_dict['words'])"
   ]
  },
  {
   "cell_type": "code",
   "execution_count": 61,
   "metadata": {},
   "outputs": [
    {
     "name": "stdout",
     "output_type": "stream",
     "text": [
      "{'words': ['cat', 'dog', 'guinea pig'], 'word_len': 3}\n"
     ]
    }
   ],
   "source": [
    "print(some_dict)"
   ]
  },
  {
   "cell_type": "markdown",
   "metadata": {},
   "source": [
    "At a very basic level, do you see how you can add items to a dictionary?\n",
    "\n",
    "Now, let's try something only-a-little-more complicated"
   ]
  },
  {
   "cell_type": "markdown",
   "metadata": {},
   "source": [
    "## Appending to Existing Data\n",
    "\n",
    "Later in the assignment you might be wondering, like, do I need to create a new data structure...or what? Or can I just append some information to an existing structure (like a tweet). If your data structure is a list of dictionaries, and you're interrogating the dictionary, there's no reason, not to just tack more info on to the existing. "
   ]
  },
  {
   "cell_type": "code",
   "execution_count": 63,
   "metadata": {},
   "outputs": [
    {
     "data": {
      "text/plain": [
       "{'created_at': 'Mon Oct 10 18:39:51 +0000 2016',\n",
       " 'entities': {'favorites': [{'hobby': 'biking',\n",
       "    'text': 'I really enjoy biking'},\n",
       "   {'hobby': 'reading', 'text': 'I love me a good book'}]},\n",
       " 'user': {'screen_name': 'Matt'},\n",
       " 'quote': 'You know, they do not pay you to juggle one ball'}"
      ]
     },
     "execution_count": 63,
     "metadata": {},
     "output_type": "execute_result"
    }
   ],
   "source": [
    "#Let's say I have some data that looks like this: \n",
    "\n",
    "matt_data = {'created_at': 'Mon Oct 10 18:39:51 +0000 2016',\n",
    " 'entities': {'favorites': [{'hobby': 'biking',\n",
    "    'text': 'I really enjoy biking'}, {'hobby': 'reading',\n",
    "    'text': 'I love me a good book'}]},\n",
    " 'user': {'screen_name': 'Matt'},\n",
    " 'quote': 'You know, they do not pay you to juggle one ball'}\n",
    "\n",
    "matt_data"
   ]
  },
  {
   "cell_type": "code",
   "execution_count": 64,
   "metadata": {},
   "outputs": [
    {
     "data": {
      "text/plain": [
       "[{'hobby': 'biking', 'text': 'I really enjoy biking'},\n",
       " {'hobby': 'reading', 'text': 'I love me a good book'}]"
      ]
     },
     "execution_count": 64,
     "metadata": {},
     "output_type": "execute_result"
    }
   ],
   "source": [
    "#I can access certain interesting elements: \n",
    "matt_data['entities']['favorites']\n",
    "\n",
    "#hmmm... that's interesting"
   ]
  },
  {
   "cell_type": "code",
   "execution_count": 65,
   "metadata": {},
   "outputs": [
    {
     "data": {
      "text/plain": [
       "['biking', 'reading']"
      ]
     },
     "execution_count": 65,
     "metadata": {},
     "output_type": "execute_result"
    }
   ],
   "source": [
    "#I can create a list of hobbies by accessing the hobby elements\n",
    "\n",
    "hobby_list = []\n",
    "for hobby in matt_data['entities']['favorites']: \n",
    "    hobby_list.append(hobby['hobby'])\n",
    "    \n",
    "hobby_list"
   ]
  },
  {
   "cell_type": "markdown",
   "metadata": {},
   "source": [
    "If you can do it with a loop, you can do it with a list comprehension"
   ]
  },
  {
   "cell_type": "code",
   "execution_count": 66,
   "metadata": {},
   "outputs": [
    {
     "data": {
      "text/plain": [
       "{'created_at': 'Mon Oct 10 18:39:51 +0000 2016',\n",
       " 'entities': {'favorites': [{'hobby': 'biking',\n",
       "    'text': 'I really enjoy biking'},\n",
       "   {'hobby': 'reading', 'text': 'I love me a good book'}]},\n",
       " 'user': {'screen_name': 'Matt'},\n",
       " 'quote': 'You know, they do not pay you to juggle one ball',\n",
       " 'hobbies': ['biking', 'reading']}"
      ]
     },
     "execution_count": 66,
     "metadata": {},
     "output_type": "execute_result"
    }
   ],
   "source": [
    "# I don't just want to create a list of hobbies though, I want to add it to my dictionary\n",
    "# as an element in the dictionary\n",
    "matt_data['hobbies'] = [hobby['hobby'] for hobby in matt_data['entities']['favorites']]\n",
    "matt_data"
   ]
  },
  {
   "cell_type": "markdown",
   "metadata": {},
   "source": [
    "See how I've actually appended my hobbies onto my original data structure?\n",
    "\n",
    "Now imagine I had not one, but many similar data objects, I could set it up to do this kind of work on a larger scale. \n",
    "\n",
    "Here's another example: "
   ]
  },
  {
   "cell_type": "code",
   "execution_count": 67,
   "metadata": {},
   "outputs": [
    {
     "data": {
      "text/plain": [
       "{'created_at': 'Mon Oct 10 18:39:51 +0000 2016',\n",
       " 'entities': {'favorites': [{'hobby': 'biking',\n",
       "    'text': 'I really enjoy biking'},\n",
       "   {'hobby': 'reading', 'text': 'I love me a good book'}]},\n",
       " 'user': {'screen_name': 'Matt'},\n",
       " 'quote': 'You know, they do not pay you to juggle one ball',\n",
       " 'hobbies': ['biking', 'reading'],\n",
       " 'hobbies_cnt': 2}"
      ]
     },
     "execution_count": 67,
     "metadata": {},
     "output_type": "execute_result"
    }
   ],
   "source": [
    "matt_data['hobbies_cnt'] = len(matt_data['hobbies'] )\n",
    "matt_data"
   ]
  },
  {
   "cell_type": "markdown",
   "metadata": {},
   "source": [
    "You don't have to do this in multiple cells either, you can group this stuff into a few lines"
   ]
  },
  {
   "cell_type": "code",
   "execution_count": 68,
   "metadata": {},
   "outputs": [],
   "source": [
    "##Helper function that splits strings\n",
    "import re\n",
    "def split_string(text): \n",
    "    return re.split(r'\\W+', text)\n"
   ]
  },
  {
   "cell_type": "code",
   "execution_count": 69,
   "metadata": {},
   "outputs": [
    {
     "data": {
      "text/plain": [
       "{'created_at': 'Mon Oct 10 18:39:51 +0000 2016',\n",
       " 'entities': {'favorites': [{'hobby': 'biking',\n",
       "    'text': 'I really enjoy biking'},\n",
       "   {'hobby': 'reading', 'text': 'I love me a good book'}]},\n",
       " 'user': {'screen_name': 'Matt'},\n",
       " 'quote': 'You know, they do not pay you to juggle one ball',\n",
       " 'hobbies': ['biking', 'reading'],\n",
       " 'hobbies_cnt': 2,\n",
       " 'quote_words': ['You',\n",
       "  'know',\n",
       "  'they',\n",
       "  'do',\n",
       "  'not',\n",
       "  'pay',\n",
       "  'you',\n",
       "  'to',\n",
       "  'juggle',\n",
       "  'one',\n",
       "  'ball'],\n",
       " 'words_cnt': 11}"
      ]
     },
     "execution_count": 69,
     "metadata": {},
     "output_type": "execute_result"
    }
   ],
   "source": [
    "matt_data['quote_words'] = split_string(matt_data['quote'])\n",
    "matt_data['words_cnt'] = len(matt_data['quote_words'])\n",
    "matt_data"
   ]
  },
  {
   "cell_type": "markdown",
   "metadata": {},
   "source": [
    "## Pandas\n",
    "\n",
    "I'll introduce two data structures: \n",
    "* Series\n",
    "* Data Frames\n"
   ]
  },
  {
   "cell_type": "markdown",
   "metadata": {},
   "source": [
    "## Series"
   ]
  },
  {
   "cell_type": "code",
   "execution_count": 31,
   "metadata": {},
   "outputs": [],
   "source": [
    "import pandas as pd #python data analysis library\n",
    "import numpy as np #num is short for numerical"
   ]
  },
  {
   "cell_type": "code",
   "execution_count": 32,
   "metadata": {},
   "outputs": [
    {
     "name": "stdout",
     "output_type": "stream",
     "text": [
      "0    1\n",
      "1    2\n",
      "2    2\n",
      "3    3\n",
      "4    5\n",
      "5    8\n",
      "dtype: int64\n"
     ]
    }
   ],
   "source": [
    "# create a Series from a list\n",
    "number_series = pd.Series([1, 2, 2, 3, 5, 8])\n",
    "print(number_series)"
   ]
  },
  {
   "cell_type": "code",
   "execution_count": 47,
   "metadata": {},
   "outputs": [
    {
     "data": {
      "text/plain": [
       "sarah    42\n",
       "amit     35\n",
       "zhang    13\n",
       "dtype: int64"
      ]
     },
     "execution_count": 47,
     "metadata": {},
     "output_type": "execute_result"
    }
   ],
   "source": [
    "# create a Series from a dictionary\n",
    "ages = pd.Series({'sarah':42, 'amit':35, 'zhang':13})\n",
    "ages"
   ]
  },
  {
   "cell_type": "markdown",
   "metadata": {},
   "source": [
    "See how this looks a little like a table? "
   ]
  },
  {
   "cell_type": "code",
   "execution_count": 39,
   "metadata": {},
   "outputs": [
    {
     "name": "stdout",
     "output_type": "stream",
     "text": [
      "0     5\n",
      "1     6\n",
      "2     6\n",
      "3     7\n",
      "4     9\n",
      "5    12\n",
      "dtype: int64\n"
     ]
    }
   ],
   "source": [
    "#Series Operation\n",
    "results = number_series + 4\n",
    "print(results)"
   ]
  },
  {
   "cell_type": "code",
   "execution_count": 41,
   "metadata": {},
   "outputs": [
    {
     "name": "stdout",
     "output_type": "stream",
     "text": [
      "0    False\n",
      "1    False\n",
      "2    False\n",
      "3     True\n",
      "4     True\n",
      "5     True\n",
      "dtype: bool\n"
     ]
    }
   ],
   "source": [
    "greater_than = number_series >2\n",
    "print(greater_than)\n",
    "\n",
    "##This is really useful for applying changes without having to loop"
   ]
  },
  {
   "cell_type": "code",
   "execution_count": 48,
   "metadata": {},
   "outputs": [
    {
     "data": {
      "text/plain": [
       "sarah    52\n",
       "amit     40\n",
       "zhang    16\n",
       "dtype: int64"
      ]
     },
     "execution_count": 48,
     "metadata": {},
     "output_type": "execute_result"
    }
   ],
   "source": [
    "#Can still add pairwise\n",
    "ages + pd.Series({'sarah':10, 'amit':5, 'zhang':3})"
   ]
  },
  {
   "cell_type": "code",
   "execution_count": 49,
   "metadata": {},
   "outputs": [
    {
     "data": {
      "text/plain": [
       "amit     40.0\n",
       "anja      NaN\n",
       "sarah    52.0\n",
       "zhang    16.0\n",
       "dtype: float64"
      ]
     },
     "execution_count": 49,
     "metadata": {},
     "output_type": "execute_result"
    }
   ],
   "source": [
    "ages + pd.Series({'sarah':10, 'amit':5, 'zhang':3, 'anja': 12})\n",
    "\n",
    "##notice 2 things: NaN and ordering"
   ]
  },
  {
   "cell_type": "code",
   "execution_count": 54,
   "metadata": {},
   "outputs": [
    {
     "data": {
      "text/plain": [
       "30.0"
      ]
     },
     "execution_count": 54,
     "metadata": {},
     "output_type": "execute_result"
    }
   ],
   "source": [
    "ages_mean = ages.mean()\n",
    "ages_mean"
   ]
  },
  {
   "cell_type": "code",
   "execution_count": 55,
   "metadata": {},
   "outputs": [
    {
     "data": {
      "text/plain": [
       "Index(['sarah', 'amit', 'zhang'], dtype='object')"
      ]
     },
     "execution_count": 55,
     "metadata": {},
     "output_type": "execute_result"
    }
   ],
   "source": [
    "ages.index"
   ]
  },
  {
   "cell_type": "code",
   "execution_count": 57,
   "metadata": {},
   "outputs": [
    {
     "data": {
      "text/plain": [
       "sarah    42\n",
       "amit     35\n",
       "dtype: int64"
      ]
     },
     "execution_count": 57,
     "metadata": {},
     "output_type": "execute_result"
    }
   ],
   "source": [
    "ages.head(2)"
   ]
  },
  {
   "cell_type": "code",
   "execution_count": 62,
   "metadata": {},
   "outputs": [
    {
     "data": {
      "text/plain": [
       "False"
      ]
     },
     "execution_count": 62,
     "metadata": {},
     "output_type": "execute_result"
    }
   ],
   "source": [
    "s1 = pd.Series([1, 2, 2, 3, 5, 8])\n",
    "s2 = pd.Series([11, 21, 21, 31, 1, 81])\n",
    "(s1 < s2).all()\n",
    "\n",
    "#So it's not true that all elements of s1 are less than s2\n",
    "# Recall, all we need is one counter-example"
   ]
  },
  {
   "cell_type": "code",
   "execution_count": 64,
   "metadata": {},
   "outputs": [
    {
     "name": "stdout",
     "output_type": "stream",
     "text": [
      "sarah    42\n",
      "amit     35\n",
      "zhang    13\n",
      "dtype: int64\n"
     ]
    },
    {
     "data": {
      "text/plain": [
       "42"
      ]
     },
     "execution_count": 64,
     "metadata": {},
     "output_type": "execute_result"
    }
   ],
   "source": [
    "print(ages)\n",
    "ages[0]"
   ]
  },
  {
   "cell_type": "code",
   "execution_count": 67,
   "metadata": {},
   "outputs": [
    {
     "data": {
      "text/plain": [
       "0    1\n",
       "3    3\n",
       "5    8\n",
       "dtype: int64"
      ]
     },
     "execution_count": 67,
     "metadata": {},
     "output_type": "execute_result"
    }
   ],
   "source": [
    "#multiple indices\n",
    "\n",
    "#We can access with bracket notation\n",
    "#within that we put a list\n",
    "#s1 []\n",
    "#s1 [ [index_list] ]\n",
    "\n",
    "s1[[0, 3, 5]]"
   ]
  },
  {
   "cell_type": "code",
   "execution_count": 73,
   "metadata": {},
   "outputs": [
    {
     "data": {
      "text/plain": [
       "0    1\n",
       "3    3\n",
       "5    8\n",
       "dtype: int64"
      ]
     },
     "execution_count": 73,
     "metadata": {},
     "output_type": "execute_result"
    }
   ],
   "source": [
    "#Boolean indexing\n",
    "filter_indices = [True, False, False, True, False, True]\n",
    "s1[filter_indices]"
   ]
  },
  {
   "cell_type": "code",
   "execution_count": 76,
   "metadata": {},
   "outputs": [
    {
     "data": {
      "text/plain": [
       "0     5.5\n",
       "1    11.0\n",
       "2     7.0\n",
       "3     8.0\n",
       "4     4.0\n",
       "dtype: float64"
      ]
     },
     "execution_count": 76,
     "metadata": {},
     "output_type": "execute_result"
    }
   ],
   "source": [
    "shoe_sizes = pd.Series([5.5, 11, 7, 8, 4])\n",
    "shoe_sizes"
   ]
  },
  {
   "cell_type": "code",
   "execution_count": 77,
   "metadata": {},
   "outputs": [
    {
     "data": {
      "text/plain": [
       "0     True\n",
       "1    False\n",
       "2    False\n",
       "3    False\n",
       "4     True\n",
       "dtype: bool"
      ]
     },
     "execution_count": 77,
     "metadata": {},
     "output_type": "execute_result"
    }
   ],
   "source": [
    "small_sizes = shoe_sizes < 6  # True, False, False, False, True\n",
    "small_sizes"
   ]
  },
  {
   "cell_type": "code",
   "execution_count": 79,
   "metadata": {},
   "outputs": [
    {
     "data": {
      "text/plain": [
       "0    5.5\n",
       "4    4.0\n",
       "dtype: float64"
      ]
     },
     "execution_count": 79,
     "metadata": {},
     "output_type": "execute_result"
    }
   ],
   "source": [
    "small_shoes = shoe_sizes[small_sizes]  # has values 5.5, 4\n",
    "small_shoes"
   ]
  },
  {
   "cell_type": "code",
   "execution_count": 80,
   "metadata": {},
   "outputs": [],
   "source": [
    "# as one line\n",
    "small_shoes = shoe_sizes[shoe_sizes < 6]"
   ]
  },
  {
   "cell_type": "markdown",
   "metadata": {},
   "source": [
    "small_shoes"
   ]
  },
  {
   "cell_type": "markdown",
   "metadata": {},
   "source": [
    "## DataFrames"
   ]
  },
  {
   "cell_type": "code",
   "execution_count": 82,
   "metadata": {},
   "outputs": [
    {
     "name": "stdout",
     "output_type": "stream",
     "text": [
      "    name  height  weight\n",
      "0    Ada      64     135\n",
      "1    Bob      74     156\n",
      "2  Chris      69     139\n",
      "3   Diya      69     144\n",
      "4   Emma      71     152\n"
     ]
    }
   ],
   "source": [
    "name_series = pd.Series(['Ada','Bob','Chris','Diya','Emma'])\n",
    "heights = [64, 74, 69, 69, 71] #Straight list or a series\n",
    "weights = [135, 156, 139, 144, 152]\n",
    "\n",
    "df = pd.DataFrame({'name':name_series, \n",
    "                   'height':heights, \n",
    "                   'weight':weights})\n",
    "print(df)"
   ]
  },
  {
   "cell_type": "markdown",
   "metadata": {},
   "source": [
    "Look at how nicely that formats..."
   ]
  },
  {
   "cell_type": "markdown",
   "metadata": {},
   "source": [
    "This is one goal of programming. You spent an hour getting a5 to format that nicely. Someone else wrote a program that does it in seconds. "
   ]
  },
  {
   "cell_type": "code",
   "execution_count": 89,
   "metadata": {},
   "outputs": [
    {
     "data": {
      "text/html": [
       "<div>\n",
       "<style scoped>\n",
       "    .dataframe tbody tr th:only-of-type {\n",
       "        vertical-align: middle;\n",
       "    }\n",
       "\n",
       "    .dataframe tbody tr th {\n",
       "        vertical-align: top;\n",
       "    }\n",
       "\n",
       "    .dataframe thead th {\n",
       "        text-align: right;\n",
       "    }\n",
       "</style>\n",
       "<table border=\"1\" class=\"dataframe\">\n",
       "  <thead>\n",
       "    <tr style=\"text-align: right;\">\n",
       "      <th></th>\n",
       "      <th>name</th>\n",
       "      <th>height</th>\n",
       "      <th>weight</th>\n",
       "    </tr>\n",
       "  </thead>\n",
       "  <tbody>\n",
       "    <tr>\n",
       "      <th>0</th>\n",
       "      <td>Ada</td>\n",
       "      <td>64</td>\n",
       "      <td>135</td>\n",
       "    </tr>\n",
       "    <tr>\n",
       "      <th>1</th>\n",
       "      <td>Bob</td>\n",
       "      <td>74</td>\n",
       "      <td>156</td>\n",
       "    </tr>\n",
       "    <tr>\n",
       "      <th>2</th>\n",
       "      <td>Chris</td>\n",
       "      <td>69</td>\n",
       "      <td>139</td>\n",
       "    </tr>\n",
       "    <tr>\n",
       "      <th>3</th>\n",
       "      <td>Diya</td>\n",
       "      <td>69</td>\n",
       "      <td>144</td>\n",
       "    </tr>\n",
       "    <tr>\n",
       "      <th>4</th>\n",
       "      <td>Emma</td>\n",
       "      <td>71</td>\n",
       "      <td>152</td>\n",
       "    </tr>\n",
       "  </tbody>\n",
       "</table>\n",
       "</div>"
      ],
      "text/plain": [
       "    name  height  weight\n",
       "0    Ada      64     135\n",
       "1    Bob      74     156\n",
       "2  Chris      69     139\n",
       "3   Diya      69     144\n",
       "4   Emma      71     152"
      ]
     },
     "execution_count": 89,
     "metadata": {},
     "output_type": "execute_result"
    }
   ],
   "source": [
    "##Now look if you don't print()\n",
    "df"
   ]
  },
  {
   "cell_type": "code",
   "execution_count": 83,
   "metadata": {},
   "outputs": [
    {
     "data": {
      "text/plain": [
       "RangeIndex(start=0, stop=5, step=1)"
      ]
     },
     "execution_count": 83,
     "metadata": {},
     "output_type": "execute_result"
    }
   ],
   "source": [
    "df.index"
   ]
  },
  {
   "cell_type": "code",
   "execution_count": 85,
   "metadata": {},
   "outputs": [
    {
     "data": {
      "text/plain": [
       "Index(['name', 'height', 'weight'], dtype='object')"
      ]
     },
     "execution_count": 85,
     "metadata": {},
     "output_type": "execute_result"
    }
   ],
   "source": [
    "df.columns"
   ]
  },
  {
   "cell_type": "code",
   "execution_count": 93,
   "metadata": {},
   "outputs": [
    {
     "data": {
      "text/html": [
       "<div>\n",
       "<style scoped>\n",
       "    .dataframe tbody tr th:only-of-type {\n",
       "        vertical-align: middle;\n",
       "    }\n",
       "\n",
       "    .dataframe tbody tr th {\n",
       "        vertical-align: top;\n",
       "    }\n",
       "\n",
       "    .dataframe thead th {\n",
       "        text-align: right;\n",
       "    }\n",
       "</style>\n",
       "<table border=\"1\" class=\"dataframe\">\n",
       "  <thead>\n",
       "    <tr style=\"text-align: right;\">\n",
       "      <th></th>\n",
       "      <th>name</th>\n",
       "      <th>height</th>\n",
       "      <th>weight</th>\n",
       "      <th>shoe_sizes_size</th>\n",
       "    </tr>\n",
       "  </thead>\n",
       "  <tbody>\n",
       "    <tr>\n",
       "      <th>0</th>\n",
       "      <td>Ada</td>\n",
       "      <td>64</td>\n",
       "      <td>135</td>\n",
       "      <td>11.0</td>\n",
       "    </tr>\n",
       "    <tr>\n",
       "      <th>1</th>\n",
       "      <td>Bob</td>\n",
       "      <td>74</td>\n",
       "      <td>156</td>\n",
       "      <td>5.0</td>\n",
       "    </tr>\n",
       "    <tr>\n",
       "      <th>2</th>\n",
       "      <td>Chris</td>\n",
       "      <td>69</td>\n",
       "      <td>139</td>\n",
       "      <td>6.0</td>\n",
       "    </tr>\n",
       "    <tr>\n",
       "      <th>3</th>\n",
       "      <td>Diya</td>\n",
       "      <td>69</td>\n",
       "      <td>144</td>\n",
       "      <td>5.5</td>\n",
       "    </tr>\n",
       "    <tr>\n",
       "      <th>4</th>\n",
       "      <td>Emma</td>\n",
       "      <td>71</td>\n",
       "      <td>152</td>\n",
       "      <td>8.0</td>\n",
       "    </tr>\n",
       "  </tbody>\n",
       "</table>\n",
       "</div>"
      ],
      "text/plain": [
       "    name  height  weight  shoe_sizes_size\n",
       "0    Ada      64     135             11.0\n",
       "1    Bob      74     156              5.0\n",
       "2  Chris      69     139              6.0\n",
       "3   Diya      69     144              5.5\n",
       "4   Emma      71     152              8.0"
      ]
     },
     "execution_count": 93,
     "metadata": {},
     "output_type": "execute_result"
    }
   ],
   "source": [
    "df = df.assign(shoe_sizes_size = [11,5,6,5.5,8])\n",
    "df"
   ]
  },
  {
   "cell_type": "code",
   "execution_count": 94,
   "metadata": {},
   "outputs": [
    {
     "data": {
      "text/plain": [
       "height              69.4\n",
       "weight             145.2\n",
       "shoe_sizes_size      7.1\n",
       "dtype: float64"
      ]
     },
     "execution_count": 94,
     "metadata": {},
     "output_type": "execute_result"
    }
   ],
   "source": [
    "df.mean() ##Avg by column"
   ]
  },
  {
   "cell_type": "code",
   "execution_count": 98,
   "metadata": {},
   "outputs": [
    {
     "data": {
      "text/html": [
       "<div>\n",
       "<style scoped>\n",
       "    .dataframe tbody tr th:only-of-type {\n",
       "        vertical-align: middle;\n",
       "    }\n",
       "\n",
       "    .dataframe tbody tr th {\n",
       "        vertical-align: top;\n",
       "    }\n",
       "\n",
       "    .dataframe thead th {\n",
       "        text-align: right;\n",
       "    }\n",
       "</style>\n",
       "<table border=\"1\" class=\"dataframe\">\n",
       "  <thead>\n",
       "    <tr style=\"text-align: right;\">\n",
       "      <th></th>\n",
       "      <th>height</th>\n",
       "      <th>weight</th>\n",
       "      <th>shoe_sizes_size</th>\n",
       "    </tr>\n",
       "  </thead>\n",
       "  <tbody>\n",
       "    <tr>\n",
       "      <th>count</th>\n",
       "      <td>5.00</td>\n",
       "      <td>5.00</td>\n",
       "      <td>5.00</td>\n",
       "    </tr>\n",
       "    <tr>\n",
       "      <th>mean</th>\n",
       "      <td>69.40</td>\n",
       "      <td>145.20</td>\n",
       "      <td>7.10</td>\n",
       "    </tr>\n",
       "    <tr>\n",
       "      <th>std</th>\n",
       "      <td>3.65</td>\n",
       "      <td>8.76</td>\n",
       "      <td>2.46</td>\n",
       "    </tr>\n",
       "    <tr>\n",
       "      <th>min</th>\n",
       "      <td>64.00</td>\n",
       "      <td>135.00</td>\n",
       "      <td>5.00</td>\n",
       "    </tr>\n",
       "    <tr>\n",
       "      <th>25%</th>\n",
       "      <td>69.00</td>\n",
       "      <td>139.00</td>\n",
       "      <td>5.50</td>\n",
       "    </tr>\n",
       "    <tr>\n",
       "      <th>50%</th>\n",
       "      <td>69.00</td>\n",
       "      <td>144.00</td>\n",
       "      <td>6.00</td>\n",
       "    </tr>\n",
       "    <tr>\n",
       "      <th>75%</th>\n",
       "      <td>71.00</td>\n",
       "      <td>152.00</td>\n",
       "      <td>8.00</td>\n",
       "    </tr>\n",
       "    <tr>\n",
       "      <th>max</th>\n",
       "      <td>74.00</td>\n",
       "      <td>156.00</td>\n",
       "      <td>11.00</td>\n",
       "    </tr>\n",
       "  </tbody>\n",
       "</table>\n",
       "</div>"
      ],
      "text/plain": [
       "       height  weight  shoe_sizes_size\n",
       "count    5.00    5.00             5.00\n",
       "mean    69.40  145.20             7.10\n",
       "std      3.65    8.76             2.46\n",
       "min     64.00  135.00             5.00\n",
       "25%     69.00  139.00             5.50\n",
       "50%     69.00  144.00             6.00\n",
       "75%     71.00  152.00             8.00\n",
       "max     74.00  156.00            11.00"
      ]
     },
     "execution_count": 98,
     "metadata": {},
     "output_type": "execute_result"
    }
   ],
   "source": [
    "#table of descriptive stats\n",
    "descriptive_stats = round(df.describe(), 2)\n",
    "descriptive_stats"
   ]
  },
  {
   "cell_type": "markdown",
   "metadata": {},
   "source": [
    "Notice: \n",
    "This is treating every column. Not records. So these descriptive stats are \"describing\" columns (aka the series of data)"
   ]
  },
  {
   "cell_type": "code",
   "execution_count": 99,
   "metadata": {},
   "outputs": [
    {
     "data": {
      "text/plain": [
       "count     5.00\n",
       "mean     69.40\n",
       "std       3.65\n",
       "min      64.00\n",
       "25%      69.00\n",
       "50%      69.00\n",
       "75%      71.00\n",
       "max      74.00\n",
       "Name: height, dtype: float64"
      ]
     },
     "execution_count": 99,
     "metadata": {},
     "output_type": "execute_result"
    }
   ],
   "source": [
    "descriptive_stats['height']"
   ]
  },
  {
   "cell_type": "code",
   "execution_count": 101,
   "metadata": {},
   "outputs": [
    {
     "data": {
      "text/plain": [
       "5.0"
      ]
     },
     "execution_count": 101,
     "metadata": {},
     "output_type": "execute_result"
    }
   ],
   "source": [
    "#The Descriptive stats is a DF, so you can access it with bracket notation\n",
    "descriptive_stats['height']['count']"
   ]
  },
  {
   "cell_type": "code",
   "execution_count": 106,
   "metadata": {},
   "outputs": [
    {
     "data": {
      "text/plain": [
       "count     5.00\n",
       "mean     69.40\n",
       "std       3.65\n",
       "min      64.00\n",
       "25%      69.00\n",
       "50%      69.00\n",
       "75%      71.00\n",
       "max      74.00\n",
       "Name: height, dtype: float64"
      ]
     },
     "execution_count": 106,
     "metadata": {},
     "output_type": "execute_result"
    }
   ],
   "source": [
    "#can also access with dot notation\n",
    "descriptive_stats.height"
   ]
  },
  {
   "cell_type": "code",
   "execution_count": 108,
   "metadata": {},
   "outputs": [
    {
     "data": {
      "text/plain": [
       "5.0"
      ]
     },
     "execution_count": 108,
     "metadata": {},
     "output_type": "execute_result"
    }
   ],
   "source": [
    "#combine them\n",
    "descriptive_stats.height['count']"
   ]
  },
  {
   "cell_type": "code",
   "execution_count": 110,
   "metadata": {},
   "outputs": [
    {
     "data": {
      "text/plain": [
       "<bound method Series.count of count     5.00\n",
       "mean     69.40\n",
       "std       3.65\n",
       "min      64.00\n",
       "25%      69.00\n",
       "50%      69.00\n",
       "75%      71.00\n",
       "max      74.00\n",
       "Name: height, dtype: float64>"
      ]
     },
     "execution_count": 110,
     "metadata": {},
     "output_type": "execute_result"
    }
   ],
   "source": [
    "#but not this strangely...\n",
    "descriptive_stats.height.count\n",
    "\n",
    "#...why? I don't know why they built it this way, but it is what it is\n",
    "# why is the sky blue? "
   ]
  },
  {
   "cell_type": "code",
   "execution_count": 117,
   "metadata": {},
   "outputs": [
    {
     "data": {
      "text/html": [
       "<div>\n",
       "<style scoped>\n",
       "    .dataframe tbody tr th:only-of-type {\n",
       "        vertical-align: middle;\n",
       "    }\n",
       "\n",
       "    .dataframe tbody tr th {\n",
       "        vertical-align: top;\n",
       "    }\n",
       "\n",
       "    .dataframe thead th {\n",
       "        text-align: right;\n",
       "    }\n",
       "</style>\n",
       "<table border=\"1\" class=\"dataframe\">\n",
       "  <thead>\n",
       "    <tr style=\"text-align: right;\">\n",
       "      <th></th>\n",
       "      <th>height</th>\n",
       "      <th>weight</th>\n",
       "    </tr>\n",
       "  </thead>\n",
       "  <tbody>\n",
       "    <tr>\n",
       "      <th>0</th>\n",
       "      <td>64</td>\n",
       "      <td>135</td>\n",
       "    </tr>\n",
       "    <tr>\n",
       "      <th>1</th>\n",
       "      <td>74</td>\n",
       "      <td>156</td>\n",
       "    </tr>\n",
       "    <tr>\n",
       "      <th>2</th>\n",
       "      <td>69</td>\n",
       "      <td>139</td>\n",
       "    </tr>\n",
       "    <tr>\n",
       "      <th>3</th>\n",
       "      <td>69</td>\n",
       "      <td>144</td>\n",
       "    </tr>\n",
       "    <tr>\n",
       "      <th>4</th>\n",
       "      <td>71</td>\n",
       "      <td>152</td>\n",
       "    </tr>\n",
       "  </tbody>\n",
       "</table>\n",
       "</div>"
      ],
      "text/plain": [
       "   height  weight\n",
       "0      64     135\n",
       "1      74     156\n",
       "2      69     139\n",
       "3      69     144\n",
       "4      71     152"
      ]
     },
     "execution_count": 117,
     "metadata": {},
     "output_type": "execute_result"
    }
   ],
   "source": [
    "##maybe I want to see some columns: \n",
    "df[['height', 'weight']]"
   ]
  },
  {
   "cell_type": "code",
   "execution_count": 119,
   "metadata": {},
   "outputs": [
    {
     "data": {
      "text/html": [
       "<div>\n",
       "<style scoped>\n",
       "    .dataframe tbody tr th:only-of-type {\n",
       "        vertical-align: middle;\n",
       "    }\n",
       "\n",
       "    .dataframe tbody tr th {\n",
       "        vertical-align: top;\n",
       "    }\n",
       "\n",
       "    .dataframe thead th {\n",
       "        text-align: right;\n",
       "    }\n",
       "</style>\n",
       "<table border=\"1\" class=\"dataframe\">\n",
       "  <thead>\n",
       "    <tr style=\"text-align: right;\">\n",
       "      <th></th>\n",
       "      <th>name</th>\n",
       "      <th>height</th>\n",
       "      <th>weight</th>\n",
       "      <th>shoe_sizes_size</th>\n",
       "    </tr>\n",
       "  </thead>\n",
       "  <tbody>\n",
       "    <tr>\n",
       "      <th>1</th>\n",
       "      <td>Bob</td>\n",
       "      <td>74</td>\n",
       "      <td>156</td>\n",
       "      <td>5.0</td>\n",
       "    </tr>\n",
       "    <tr>\n",
       "      <th>4</th>\n",
       "      <td>Emma</td>\n",
       "      <td>71</td>\n",
       "      <td>152</td>\n",
       "      <td>8.0</td>\n",
       "    </tr>\n",
       "  </tbody>\n",
       "</table>\n",
       "</div>"
      ],
      "text/plain": [
       "   name  height  weight  shoe_sizes_size\n",
       "1   Bob      74     156              5.0\n",
       "4  Emma      71     152              8.0"
      ]
     },
     "execution_count": 119,
     "metadata": {},
     "output_type": "execute_result"
    }
   ],
   "source": [
    "##Can also access rows: \n",
    "df[df.height > 70]"
   ]
  },
  {
   "cell_type": "code",
   "execution_count": 120,
   "metadata": {},
   "outputs": [],
   "source": [
    "##Bob and Emma are tall...!"
   ]
  },
  {
   "cell_type": "code",
   "execution_count": 121,
   "metadata": {},
   "outputs": [
    {
     "data": {
      "text/plain": [
       "0    False\n",
       "1     True\n",
       "2    False\n",
       "3    False\n",
       "4     True\n",
       "Name: height, dtype: bool"
      ]
     },
     "execution_count": 121,
     "metadata": {},
     "output_type": "execute_result"
    }
   ],
   "source": [
    "##So what's going on here? \n",
    "\n",
    "df.height >70"
   ]
  },
  {
   "cell_type": "code",
   "execution_count": 122,
   "metadata": {},
   "outputs": [
    {
     "data": {
      "text/html": [
       "<div>\n",
       "<style scoped>\n",
       "    .dataframe tbody tr th:only-of-type {\n",
       "        vertical-align: middle;\n",
       "    }\n",
       "\n",
       "    .dataframe tbody tr th {\n",
       "        vertical-align: top;\n",
       "    }\n",
       "\n",
       "    .dataframe thead th {\n",
       "        text-align: right;\n",
       "    }\n",
       "</style>\n",
       "<table border=\"1\" class=\"dataframe\">\n",
       "  <thead>\n",
       "    <tr style=\"text-align: right;\">\n",
       "      <th></th>\n",
       "      <th>name</th>\n",
       "      <th>height</th>\n",
       "      <th>weight</th>\n",
       "      <th>shoe_sizes_size</th>\n",
       "    </tr>\n",
       "  </thead>\n",
       "  <tbody>\n",
       "    <tr>\n",
       "      <th>1</th>\n",
       "      <td>Bob</td>\n",
       "      <td>74</td>\n",
       "      <td>156</td>\n",
       "      <td>5.0</td>\n",
       "    </tr>\n",
       "    <tr>\n",
       "      <th>4</th>\n",
       "      <td>Emma</td>\n",
       "      <td>71</td>\n",
       "      <td>152</td>\n",
       "      <td>8.0</td>\n",
       "    </tr>\n",
       "  </tbody>\n",
       "</table>\n",
       "</div>"
      ],
      "text/plain": [
       "   name  height  weight  shoe_sizes_size\n",
       "1   Bob      74     156              5.0\n",
       "4  Emma      71     152              8.0"
      ]
     },
     "execution_count": 122,
     "metadata": {},
     "output_type": "execute_result"
    }
   ],
   "source": [
    "#Ok, now get me all rows w/ True\n",
    "df [ df.height >70]"
   ]
  },
  {
   "cell_type": "markdown",
   "metadata": {},
   "source": [
    "DF Lookups"
   ]
  },
  {
   "cell_type": "code",
   "execution_count": 124,
   "metadata": {},
   "outputs": [
    {
     "data": {
      "text/plain": [
       "height              69.4\n",
       "weight             145.2\n",
       "shoe_sizes_size      7.1\n",
       "Name: mean, dtype: float64"
      ]
     },
     "execution_count": 124,
     "metadata": {},
     "output_type": "execute_result"
    }
   ],
   "source": [
    "#This is like saying get me a series for the given row\n",
    "#(for the row at the location I define)\n",
    "\n",
    "descriptive_stats.loc['mean']\n",
    "\n",
    "#So if I want to get all the avgs. that's how I could get it"
   ]
  },
  {
   "cell_type": "code",
   "execution_count": null,
   "metadata": {},
   "outputs": [],
   "source": []
  }
 ],
 "metadata": {
  "kernelspec": {
   "display_name": "Python 3",
   "language": "python",
   "name": "python3"
  },
  "language_info": {
   "codemirror_mode": {
    "name": "ipython",
    "version": 3
   },
   "file_extension": ".py",
   "mimetype": "text/x-python",
   "name": "python",
   "nbconvert_exporter": "python",
   "pygments_lexer": "ipython3",
   "version": "3.7.1"
  }
 },
 "nbformat": 4,
 "nbformat_minor": 2
}
